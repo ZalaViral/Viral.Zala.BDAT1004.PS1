{
 "cells": [
  {
   "cell_type": "markdown",
   "id": "00a7b9ea",
   "metadata": {},
   "source": [
    "## Problem Set 1"
   ]
  },
  {
   "cell_type": "markdown",
   "id": "a10e4728",
   "metadata": {},
   "source": [
    "### Question 1"
   ]
  },
  {
   "cell_type": "code",
   "execution_count": 3,
   "id": "87946820",
   "metadata": {},
   "outputs": [
    {
     "name": "stdout",
     "output_type": "stream",
     "text": [
      "<class 'int'>\n",
      "<class 'float'>\n",
      "<class 'bool'>\n",
      "<class 'str'>\n",
      "<class 'int'>\n",
      "<class 'str'>\n",
      "<class 'str'>\n",
      "<class 'float'>\n",
      "<class 'int'>\n",
      "<class 'set'>\n",
      "<class 'bool'>\n",
      "<class 'float'>\n"
     ]
    }
   ],
   "source": [
    "a = 5\n",
    "print(type(a)) #int\n",
    "\n",
    "b = 5.0\n",
    "print(type(b)) #float\n",
    "\n",
    "c = 5 > 1\n",
    "print(type(c)) #boolean\n",
    "\n",
    "d = '5'\n",
    "print(type(d)) #str\n",
    "\n",
    "e = 5 * 2\n",
    "print(type(e)) #int\n",
    "\n",
    "f = '5' * 2\n",
    "print(type(f)) #str\n",
    "\n",
    "g = '5' + '2'\n",
    "print(type(g)) #str\n",
    "\n",
    "h = 5 / 2\n",
    "print(type(h)) #float\n",
    "\n",
    "i = 5 % 2\n",
    "print(type(i)) #int\n",
    "\n",
    "j = {5, 2, 1}\n",
    "print(type(j)) #set\n",
    "\n",
    "k = 5 == 3\n",
    "print(type(k)) #boolean\n",
    "\n",
    "l = 3.14\n",
    "print(type(l)) #float"
   ]
  },
  {
   "cell_type": "markdown",
   "id": "82e1ba56",
   "metadata": {},
   "source": [
    "### Question 2"
   ]
  },
  {
   "cell_type": "code",
   "execution_count": 8,
   "id": "f2fe6ad6",
   "metadata": {},
   "outputs": [
    {
     "name": "stdout",
     "output_type": "stream",
     "text": [
      "34\n",
      "\n",
      "The String \"Supercalifragilisticexpialidocious\" contains 'ice' in it! \n",
      "\n",
      "Both the Supercalifragilisticexpialidocious and Bababadalgharaghtakamminarronnkonn are longest with length 34 and 34 respectively!\n",
      "\n",
      "The composers appearing in the dictionary are as follows:\n",
      "Bartok\n",
      "Bellini\n",
      "Berlioz\n",
      "Bernstein\n",
      "Borodin\n",
      "Brian\n",
      "Buxtehude\n"
     ]
    }
   ],
   "source": [
    "# a : How many letters are there in 'Supercalifragilisticexpialidocious'?\n",
    "\n",
    "\n",
    "str1 = 'Supercalifragilisticexpialidocious'\n",
    "print(len(str1))\n",
    "\n",
    "# b: Does 'Supercalifragilisticexpialidocious' contain 'ice' as a substring? \n",
    "\n",
    "if 'ice' in str1:\n",
    "    print(\"\\nThe String \\\"Supercalifragilisticexpialidocious\\\" contains \\'ice\\' in it! \")\n",
    "else:\n",
    "    print(\"\\nNo The String \\\"Supercalifragilisticexpialidocious\\\" does not contain \\'ice\\' in it! \")\n",
    " \n",
    "\n",
    "\"\"\"c: Which of the following words is the longest:\n",
    "Supercalifragilisticexpialidocious, Honorificabilitudinitatibus, or\n",
    "Bababadalgharaghtakamminarronnkonn? \n",
    "\"\"\"\n",
    "\n",
    "str2 = 'Honorificabilitudinitatibus'\n",
    "str3 = 'Bababadalgharaghtakamminarronnkonn'\n",
    "\n",
    "if len(str1) > len(str2):\n",
    "    if len(str1) > len(str3):\n",
    "        print(\"\\nThe longest word is:\" + str1 + \"with \" + str(len(str1))+ \" words!\")\n",
    "        \n",
    "if len(str2) > len(str3):\n",
    "    if len(str2) > len(str1):\n",
    "        print(\"\\nThe longest word is:\" + str2 + \"with \" + str(len(str2))+ \" words!\")\n",
    "    else:\n",
    "        print(\"\\nThe longest word is:\" + str3 + \" with \" + str(len(str3))+ \" words!\")\n",
    "\n",
    "else:\n",
    "    if len(str1) == len(str2):\n",
    "        print(\"\\nBoth the \" + str1 + \" and \"+ str2 + \" are longest with length \" + str(len(str1)) + \" and \" + str(len(str2)) + \" respectively!\")\n",
    "    else:\n",
    "        if len(str1) == len(str3):\n",
    "            print(\"\\nBoth the \" + str1 + \" and \"+ str3 + \" are longest with length \" + str(len(str1)) + \" and \" + str(len(str3)) + \" respectively!\")\n",
    "\n",
    "\n",
    "    if len(str2) == len(str3):\n",
    "        print(\"\\nBoth the \" + str2 + \" and \"+ str3+ \" are longest with length \" + str(len(str2)) + \" and \" + str(len(str3)) + \" respectively!\")\n",
    "\n",
    "        \n",
    "'''d: Which composer comes first in the dictionary: 'Berlioz', 'Borodin', 'Brian', \n",
    "#'Bartok', 'Bellini', 'Buxtehude', 'Bernstein'. Which one comes last?'''\n",
    "\n",
    "composers = ['Berlioz', 'Borodin', 'Brian', 'Bartok', 'Bellini', 'Buxtehude', 'Bernstein']\n",
    "composers.sort()\n",
    "print(\"\\nThe composers appearing in the dictionary are as follows:\")\n",
    "for composer in composers:\n",
    "    print(composer)\n",
    "\n"
   ]
  },
  {
   "cell_type": "markdown",
   "id": "f50c30cf",
   "metadata": {},
   "source": [
    "## Question 3"
   ]
  },
  {
   "cell_type": "code",
   "execution_count": 2,
   "id": "f403103f",
   "metadata": {},
   "outputs": [
    {
     "name": "stdout",
     "output_type": "stream",
     "text": [
      "1.7320508075688772\n",
      "Enter the value of first side of triangle: 3\n",
      "Enter the value of second side of triangle: 4\n",
      "Enter the value of third side of triangle: 5\n",
      "6.0\n",
      "The area of Triangle using Heron's formula is:  6.0\n"
     ]
    }
   ],
   "source": [
    "#using function and taking parameters\n",
    "import math\n",
    "\n",
    "def triangleArea(a, b, c):\n",
    "    s = (a + b + c) / 2\n",
    "    area = math.sqrt(s * (s - a) * (s - b) * (s - c))\n",
    "    return area\n",
    "\n",
    "print(triangleArea(2,2,2))\n",
    "\n",
    "#taking input from the user \n",
    "def trianglearea():\n",
    "    a = float(input(\"Enter the value of first side of triangle: \"))\n",
    "    b = float(input(\"Enter the value of second side of triangle: \"))\n",
    "    c = float(input(\"Enter the value of third side of triangle: \"))\n",
    "    s = (a + b + c) / 2\n",
    "    print(s)\n",
    "    area = math.sqrt((s * (s - a) * (s - b) * (s - c)))\n",
    "    print(\"The area of Triangle using Heron's formula is: \", area)\n",
    "\n",
    "trianglearea()"
   ]
  },
  {
   "cell_type": "markdown",
   "id": "54699bfd",
   "metadata": {},
   "source": [
    "## Question 4"
   ]
  },
  {
   "cell_type": "code",
   "execution_count": 5,
   "id": "44b82688",
   "metadata": {},
   "outputs": [
    {
     "name": "stdout",
     "output_type": "stream",
     "text": [
      "Enter the number of elements you want to store in array: 6\n",
      "Enter the element - 0: 45\n",
      "Enter the element - 1: 87\n",
      "Enter the element - 2: 12\n",
      "Enter the element - 3: 8\n",
      "Enter the element - 4: 9\n",
      "Enter the element - 5: 14\n",
      "Even elements are:  [12, 8, 14]\n",
      "Odd elements are:  [45, 87, 9]\n"
     ]
    }
   ],
   "source": [
    "array1 = []\n",
    "num = int(input(\"Enter the number of elements you want to store in array: \"))\n",
    "\n",
    "even_arr = []\n",
    "odd_arr = []\n",
    "for i in range(num):\n",
    "    ele = int(input(\"Enter the element - \"+str(i)+\": \"))\n",
    "    array1.append(ele)\n",
    "\n",
    "for ele in array1:\n",
    "    if ele % 2 == 0:\n",
    "        even_arr.append(ele)\n",
    "    else:\n",
    "        odd_arr.append(ele)\n",
    "\n",
    "print(\"Even elements are: \", even_arr)\n",
    "print(\"Odd elements are: \", odd_arr)"
   ]
  },
  {
   "cell_type": "markdown",
   "id": "155743bc",
   "metadata": {},
   "source": [
    "## Question 5"
   ]
  },
  {
   "cell_type": "code",
   "execution_count": 4,
   "id": "1b711b62",
   "metadata": {},
   "outputs": [
    {
     "name": "stdout",
     "output_type": "stream",
     "text": [
      "Enter the value of x1: 0\n",
      "Enter the value of x2: 2\n",
      "Enter the value of y1: 0\n",
      "Enter the value of y2 : 3\n",
      "Enter the value of x: -1\n",
      "Enter the value of y: -1\n",
      "The value x:  -1  and y: -1  does not lie in the rectangle!\n",
      "The point (1, 1) does not lie in both rectangles\n"
     ]
    }
   ],
   "source": [
    "#part a\n",
    "def inside(x,y,x1,y1,x2,y2):\n",
    "    if (x1 <= x <= x2 and y1 <= y <= y2):\n",
    "        return True;\n",
    "    else:\n",
    "        return False;\n",
    "\n",
    "x1 = int(input(\"Enter the value of x1: \"))\n",
    "x2 = int(input(\"Enter the value of x2: \"))\n",
    "y1 = int(input(\"Enter the value of y1: \"))\n",
    "y2 = int(input(\"Enter the value of y2 : \"))\n",
    "\n",
    "x = int(input(\"Enter the value of x: \"))\n",
    "y = int(input(\"Enter the value of y: \"))\n",
    "\n",
    "if inside(x,y,x1, y1, x2, y2):\n",
    "    print(\"The value x: \", x ,\" and y:\", y, \" lies in the rectangle!\")\n",
    "else:\n",
    "    print(\"The value x: \", x, \" and y:\", y, \" does not lie in the rectangle!\")\n",
    "    \n",
    "#part b\n",
    "\n",
    "rect1 = inside(1, 1, 0.3, 0.5, 1.1, 0.7)\n",
    "rect2 = inside(1, 1, 0.5, 0.2, 1.1, 2)\n",
    "\n",
    "if rect1 and rect2:\n",
    "    print(\"The point (1, 1) lies in both rectangles\")\n",
    "else:\n",
    "    print(\"The point (1, 1) does not lie in both rectangles\")\n",
    "    "
   ]
  },
  {
   "cell_type": "markdown",
   "id": "e183350f",
   "metadata": {},
   "source": [
    "## Question 6"
   ]
  },
  {
   "cell_type": "markdown",
   "id": "83ad59df",
   "metadata": {},
   "source": [
    "def pig(word):\n",
    "    vowels = \"aeiou\"\n",
    "    if word[0].lower() in vowels:\n",
    "        return word.lower() + \"way\"\n",
    "    else:\n",
    "        return word[1:].lower() + word[0].lower() + \"ay\"\n",
    "\n",
    "\n",
    "word = input(\"Enter a word: \")\n",
    "print(\"The word you entered becomes : \" + pig(word))"
   ]
  },
  {
   "cell_type": "markdown",
   "id": "3c4e3bb0",
   "metadata": {},
   "source": [
    "## Question 7"
   ]
  },
  {
   "cell_type": "code",
   "execution_count": 12,
   "id": "2cbabfa2",
   "metadata": {},
   "outputs": [
    {
     "name": "stdout",
     "output_type": "stream",
     "text": [
      "[15, 1, 13, 15, 0]\n"
     ]
    }
   ],
   "source": [
    "def bldcount(name):\n",
    "    inputFile = open(name)\n",
    "    bloodGroups = ['A', 'B', 'AB', 'O', 'OO']\n",
    "    bloodCount = [0, 0, 0, 0, 0]\n",
    "    fileContent = inputFile.read()\n",
    "    a = fileContent.split(\" \")\n",
    "    for i in a:\n",
    "\n",
    "        if (i == 'A'):\n",
    "            ind = bloodGroups.index(i)\n",
    "            bloodCount[ind] += 1\n",
    "        elif (i == 'B'):\n",
    "            ind = bloodGroups.index(i)\n",
    "            bloodCount[ind] += 1\n",
    "        elif (i == 'AB'):\n",
    "            ind = bloodGroups.index(i)\n",
    "            bloodCount[ind] += 1\n",
    "        elif (i == 'O'):\n",
    "            ind = bloodGroups.index(i)\n",
    "            bloodCount[ind] += 1\n",
    "        elif (i == 'OO'):\n",
    "            ind = bloodGroups.index(i)\n",
    "            bloodCount[ind] += 1\n",
    "    print(bloodCount)\n",
    "\n",
    "\n",
    "bldcount('bloodtype1.txt')\n"
   ]
  },
  {
   "cell_type": "markdown",
   "id": "b23975d1",
   "metadata": {},
   "source": [
    "## Question 8"
   ]
  },
  {
   "cell_type": "code",
   "execution_count": 2,
   "id": "61653bfa",
   "metadata": {},
   "outputs": [
    {
     "name": "stdout",
     "output_type": "stream",
     "text": [
      "The Currency when converted to US dollars is:  1.2 USD\n"
     ]
    }
   ],
   "source": [
    "def curconv(currency, amount):\n",
    "    # Dictionary of exchange rates\n",
    "    exchange_rates = {\n",
    "        'AUD': 1.0345157,\n",
    "        'CHF': 1.0237414,\n",
    "        'CNY': 0.1550176,\n",
    "        'DKK': 0.1651442,\n",
    "        'EUR': 1.2296544,\n",
    "        'GBP': 1.5550989,\n",
    "        'HKD': 0.1270207,\n",
    "        'INR': 0.0177643,\n",
    "        'JPY': 0.01241401,\n",
    "        'MXN': 0.0751848,\n",
    "        'MYR': 0.3145411,\n",
    "        'NOK': 0.1677063,\n",
    "        'NZD': 0.8003591,\n",
    "        'PHP': 0.0233234,\n",
    "        'SEK': 0.148269,\n",
    "        'SGD': 0.788871,\n",
    "        'THB': 0.0313789,\n",
    "        'INR': 0.012\n",
    "    }\n",
    "\n",
    "    if currency in exchange_rates:\n",
    "        usd_amount = amount * exchange_rates[currency]\n",
    "        return usd_amount\n",
    "    else:\n",
    "        return \"The currency you entered is invalid! Please try again\"\n",
    "\n",
    "\n",
    "print(\"The Currency when converted to US dollars is: \",curconv('INR', 100), \"USD\")\n"
   ]
  },
  {
   "cell_type": "markdown",
   "id": "2c06858b",
   "metadata": {},
   "source": [
    "## Question 9 "
   ]
  },
  {
   "cell_type": "code",
   "execution_count": 4,
   "id": "697337cc",
   "metadata": {},
   "outputs": [
    {
     "ename": "TypeError",
     "evalue": "unsupported operand type(s) for +: 'int' and 'str'",
     "output_type": "error",
     "traceback": [
      "\u001b[1;31m---------------------------------------------------------------------------\u001b[0m",
      "\u001b[1;31mTypeError\u001b[0m                                 Traceback (most recent call last)",
      "\u001b[1;32m~\\AppData\\Local\\Temp\\ipykernel_3168\\238727474.py\u001b[0m in \u001b[0;36m<module>\u001b[1;34m\u001b[0m\n\u001b[0;32m      1\u001b[0m \u001b[0mnum\u001b[0m \u001b[1;33m=\u001b[0m \u001b[1;36m6\u001b[0m\u001b[1;33m\u001b[0m\u001b[1;33m\u001b[0m\u001b[0m\n\u001b[0;32m      2\u001b[0m \u001b[0mchar\u001b[0m \u001b[1;33m=\u001b[0m \u001b[1;34m'a'\u001b[0m\u001b[1;33m\u001b[0m\u001b[1;33m\u001b[0m\u001b[0m\n\u001b[1;32m----> 3\u001b[1;33m \u001b[0mprint\u001b[0m\u001b[1;33m(\u001b[0m\u001b[0mnum\u001b[0m \u001b[1;33m+\u001b[0m \u001b[0mchar\u001b[0m\u001b[1;33m)\u001b[0m\u001b[1;33m\u001b[0m\u001b[1;33m\u001b[0m\u001b[0m\n\u001b[0m\u001b[0;32m      4\u001b[0m \u001b[1;31m#TypeError: unsupported operand type(s) for +: 'int' and 'str'\u001b[0m\u001b[1;33m\u001b[0m\u001b[1;33m\u001b[0m\u001b[0m\n\u001b[0;32m      5\u001b[0m \u001b[1;33m\u001b[0m\u001b[0m\n",
      "\u001b[1;31mTypeError\u001b[0m: unsupported operand type(s) for +: 'int' and 'str'"
     ]
    }
   ],
   "source": [
    "num = 6\n",
    "char = 'a'\n",
    "print(num + char)\n",
    "#TypeError: unsupported operand type(s) for +: 'int' and 'str'\n"
   ]
  },
  {
   "cell_type": "markdown",
   "id": "5613441a",
   "metadata": {},
   "source": [
    "### Question 9 b"
   ]
  },
  {
   "cell_type": "code",
   "execution_count": 6,
   "id": "b6fd9b1b",
   "metadata": {},
   "outputs": [
    {
     "ename": "IndexError",
     "evalue": "list index out of range",
     "output_type": "error",
     "traceback": [
      "\u001b[1;31m---------------------------------------------------------------------------\u001b[0m",
      "\u001b[1;31mIndexError\u001b[0m                                Traceback (most recent call last)",
      "\u001b[1;32m~\\AppData\\Local\\Temp\\ipykernel_3168\\13469824.py\u001b[0m in \u001b[0;36m<module>\u001b[1;34m\u001b[0m\n\u001b[0;32m      1\u001b[0m \u001b[0mlist1\u001b[0m \u001b[1;33m=\u001b[0m \u001b[1;33m[\u001b[0m\u001b[1;36m1\u001b[0m\u001b[1;33m,\u001b[0m\u001b[1;36m2\u001b[0m\u001b[1;33m,\u001b[0m\u001b[1;36m3\u001b[0m\u001b[1;33m,\u001b[0m\u001b[1;36m4\u001b[0m\u001b[1;33m,\u001b[0m\u001b[1;36m5\u001b[0m\u001b[1;33m,\u001b[0m\u001b[1;36m6\u001b[0m\u001b[1;33m,\u001b[0m\u001b[1;36m7\u001b[0m\u001b[1;33m,\u001b[0m\u001b[1;36m8\u001b[0m\u001b[1;33m,\u001b[0m\u001b[1;36m9\u001b[0m\u001b[1;33m,\u001b[0m\u001b[1;36m10\u001b[0m\u001b[1;33m]\u001b[0m\u001b[1;33m\u001b[0m\u001b[1;33m\u001b[0m\u001b[0m\n\u001b[1;32m----> 2\u001b[1;33m \u001b[0mprint\u001b[0m\u001b[1;33m(\u001b[0m\u001b[0mlist1\u001b[0m\u001b[1;33m[\u001b[0m\u001b[1;36m12\u001b[0m\u001b[1;33m]\u001b[0m\u001b[1;33m)\u001b[0m\u001b[1;33m\u001b[0m\u001b[1;33m\u001b[0m\u001b[0m\n\u001b[0m\u001b[0;32m      3\u001b[0m \u001b[1;31m#IndexError: list index out of range\u001b[0m\u001b[1;33m\u001b[0m\u001b[1;33m\u001b[0m\u001b[0m\n",
      "\u001b[1;31mIndexError\u001b[0m: list index out of range"
     ]
    }
   ],
   "source": [
    "list1 = [1,2,3,4,5,6,7,8,9,10]\n",
    "print(list1[12])\n",
    "#IndexError: list index out of range\n"
   ]
  },
  {
   "cell_type": "markdown",
   "id": "49b9c0a9",
   "metadata": {},
   "source": [
    "### Question 9 c"
   ]
  },
  {
   "cell_type": "code",
   "execution_count": 7,
   "id": "89b55dd7",
   "metadata": {},
   "outputs": [
    {
     "ename": "ValueError",
     "evalue": "math domain error",
     "output_type": "error",
     "traceback": [
      "\u001b[1;31m---------------------------------------------------------------------------\u001b[0m",
      "\u001b[1;31mValueError\u001b[0m                                Traceback (most recent call last)",
      "\u001b[1;32m~\\AppData\\Local\\Temp\\ipykernel_3168\\3137385124.py\u001b[0m in \u001b[0;36m<module>\u001b[1;34m\u001b[0m\n\u001b[0;32m      1\u001b[0m \u001b[1;32mimport\u001b[0m \u001b[0mmath\u001b[0m\u001b[1;33m\u001b[0m\u001b[1;33m\u001b[0m\u001b[0m\n\u001b[1;32m----> 2\u001b[1;33m \u001b[0msquareroot\u001b[0m \u001b[1;33m=\u001b[0m \u001b[0mmath\u001b[0m\u001b[1;33m.\u001b[0m\u001b[0msqrt\u001b[0m\u001b[1;33m(\u001b[0m\u001b[1;33m-\u001b[0m\u001b[1;36m1.0\u001b[0m\u001b[1;33m)\u001b[0m\u001b[1;33m\u001b[0m\u001b[1;33m\u001b[0m\u001b[0m\n\u001b[0m\u001b[0;32m      3\u001b[0m \u001b[0mprint\u001b[0m\u001b[1;33m(\u001b[0m\u001b[0msquareroot\u001b[0m\u001b[1;33m)\u001b[0m\u001b[1;33m\u001b[0m\u001b[1;33m\u001b[0m\u001b[0m\n\u001b[0;32m      4\u001b[0m \u001b[1;31m#ValueError: math domain error\u001b[0m\u001b[1;33m\u001b[0m\u001b[1;33m\u001b[0m\u001b[0m\n",
      "\u001b[1;31mValueError\u001b[0m: math domain error"
     ]
    }
   ],
   "source": [
    "import math\n",
    "squareroot = math.sqrt(-1.0)\n",
    "print(squareroot)\n",
    "#ValueError: math domain error\n"
   ]
  },
  {
   "cell_type": "markdown",
   "id": "326ae236",
   "metadata": {},
   "source": [
    "### Question 9 d"
   ]
  },
  {
   "cell_type": "code",
   "execution_count": 8,
   "id": "7c951da2",
   "metadata": {},
   "outputs": [
    {
     "ename": "NameError",
     "evalue": "name 'x' is not defined",
     "output_type": "error",
     "traceback": [
      "\u001b[1;31m---------------------------------------------------------------------------\u001b[0m",
      "\u001b[1;31mNameError\u001b[0m                                 Traceback (most recent call last)",
      "\u001b[1;32m~\\AppData\\Local\\Temp\\ipykernel_3168\\2431192800.py\u001b[0m in \u001b[0;36m<module>\u001b[1;34m\u001b[0m\n\u001b[1;32m----> 1\u001b[1;33m \u001b[0mprint\u001b[0m\u001b[1;33m(\u001b[0m\u001b[0mx\u001b[0m\u001b[1;33m)\u001b[0m\u001b[1;33m\u001b[0m\u001b[1;33m\u001b[0m\u001b[0m\n\u001b[0m\u001b[0;32m      2\u001b[0m \u001b[1;31m# NameError: name 'x' is not defined\u001b[0m\u001b[1;33m\u001b[0m\u001b[1;33m\u001b[0m\u001b[0m\n",
      "\u001b[1;31mNameError\u001b[0m: name 'x' is not defined"
     ]
    }
   ],
   "source": [
    "print(x)\n",
    "# NameError: name 'x' is not defined"
   ]
  },
  {
   "cell_type": "markdown",
   "id": "36584c94",
   "metadata": {},
   "source": [
    "### Question 9 e"
   ]
  },
  {
   "cell_type": "code",
   "execution_count": 9,
   "id": "4497790d",
   "metadata": {},
   "outputs": [
    {
     "ename": "NameError",
     "evalue": "name 'x' is not defined",
     "output_type": "error",
     "traceback": [
      "\u001b[1;31m---------------------------------------------------------------------------\u001b[0m",
      "\u001b[1;31mNameError\u001b[0m                                 Traceback (most recent call last)",
      "\u001b[1;32m~\\AppData\\Local\\Temp\\ipykernel_3168\\2054401332.py\u001b[0m in \u001b[0;36m<module>\u001b[1;34m\u001b[0m\n\u001b[1;32m----> 1\u001b[1;33m \u001b[0mprint\u001b[0m\u001b[1;33m(\u001b[0m\u001b[0mx\u001b[0m\u001b[1;33m)\u001b[0m\u001b[1;33m\u001b[0m\u001b[1;33m\u001b[0m\u001b[0m\n\u001b[0m\u001b[0;32m      2\u001b[0m \u001b[1;31m# NameError: name 'x' is not defined\u001b[0m\u001b[1;33m\u001b[0m\u001b[1;33m\u001b[0m\u001b[0m\n",
      "\u001b[1;31mNameError\u001b[0m: name 'x' is not defined"
     ]
    }
   ],
   "source": [
    "print(x)\n",
    "# NameError: name 'x' is not defined\n"
   ]
  },
  {
   "cell_type": "markdown",
   "id": "33f6f22b",
   "metadata": {},
   "source": [
    "### Question 9 f"
   ]
  },
  {
   "cell_type": "code",
   "execution_count": 10,
   "id": "9ea6547a",
   "metadata": {},
   "outputs": [
    {
     "ename": "FileNotFoundError",
     "evalue": "[Errno 2] No such file or directory: 'bloodtype.txt'",
     "output_type": "error",
     "traceback": [
      "\u001b[1;31m---------------------------------------------------------------------------\u001b[0m",
      "\u001b[1;31mFileNotFoundError\u001b[0m                         Traceback (most recent call last)",
      "\u001b[1;32m~\\AppData\\Local\\Temp\\ipykernel_3168\\1060604598.py\u001b[0m in \u001b[0;36m<module>\u001b[1;34m\u001b[0m\n\u001b[1;32m----> 1\u001b[1;33m \u001b[0mf\u001b[0m \u001b[1;33m=\u001b[0m \u001b[0mopen\u001b[0m\u001b[1;33m(\u001b[0m\u001b[1;34m\"bloodtype.txt\"\u001b[0m\u001b[1;33m)\u001b[0m\u001b[1;33m\u001b[0m\u001b[1;33m\u001b[0m\u001b[0m\n\u001b[0m\u001b[0;32m      2\u001b[0m \u001b[1;31m# FileNotFoundError: [Errno 2] No such file or directory: 'bloodtype.txt'\u001b[0m\u001b[1;33m\u001b[0m\u001b[1;33m\u001b[0m\u001b[0m\n",
      "\u001b[1;31mFileNotFoundError\u001b[0m: [Errno 2] No such file or directory: 'bloodtype.txt'"
     ]
    }
   ],
   "source": [
    "f = open(\"bloodtype.txt\")\n",
    "# FileNotFoundError: [Errno 2] No such file or directory: 'bloodtype.txt'"
   ]
  },
  {
   "cell_type": "markdown",
   "id": "d840e742",
   "metadata": {},
   "source": [
    "## Question 10"
   ]
  },
  {
   "cell_type": "code",
   "execution_count": 11,
   "id": "e7b50b03",
   "metadata": {},
   "outputs": [
    {
     "name": "stdout",
     "output_type": "stream",
     "text": [
      "Enter the text: Data Programming \n",
      "[3, 0, 0, 1, 0, 0, 2, 0, 1, 0, 0, 0, 2, 1, 1, 1, 0, 2, 0, 1, 0, 0, 0, 0, 0, 0]\n"
     ]
    }
   ],
   "source": [
    "letters = 'abcdefghijklmnopqrstuvwxyz'\n",
    "\n",
    "def frequencies(text):\n",
    "    # Create a list with 26 elements initialized to 0\n",
    "    freq_list = [0] * 26\n",
    "    # Convert the text to lowercase\n",
    "    text = text.lower()\n",
    "    # Loop through each character in the text\n",
    "    for char in text:\n",
    "        # Check if the character is in the letters string\n",
    "        if char in letters:\n",
    "            # Increment the count of the corresponding index in the list\n",
    "            freq_list[letters.index(char)] += 1\n",
    "    # Return the list of frequencies\n",
    "    return freq_list\n",
    "\n",
    "text = input(\"Enter the text: \")\n",
    "print(frequencies(text))\n"
   ]
  }
 ],
 "metadata": {
  "kernelspec": {
   "display_name": "Python 3 (ipykernel)",
   "language": "python",
   "name": "python3"
  },
  "language_info": {
   "codemirror_mode": {
    "name": "ipython",
    "version": 3
   },
   "file_extension": ".py",
   "mimetype": "text/x-python",
   "name": "python",
   "nbconvert_exporter": "python",
   "pygments_lexer": "ipython3",
   "version": "3.9.13"
  }
 },
 "nbformat": 4,
 "nbformat_minor": 5
}
